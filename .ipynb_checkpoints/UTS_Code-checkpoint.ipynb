{
 "cells": [
  {
   "cell_type": "markdown",
   "metadata": {
    "collapsed": true,
    "pycharm": {
     "name": "#%% md\n"
    }
   },
   "source": [
    "# Ujian Tengah Semester Computational Finance\n",
    "---\n",
    "\n",
    "**Dibuat oleh:**\n",
    "- Dennis Jonathan (23101910027)\n",
    "\n",
    "*S1 Business Mathematics 2019 - Universitas Prasetiya Mulya*"
   ]
  },
  {
   "cell_type": "code",
   "execution_count": 1,
   "metadata": {
    "pycharm": {
     "name": "#%%\n"
    }
   },
   "outputs": [],
   "source": [
    "# Importing the libraries\n",
    "import pandas as pd\n",
    "import numpy as np\n",
    "from pandas_datareader.data import DataReader\n",
    "\n",
    "# Importing Datetime libraries\n",
    "from datetime import date\n",
    "from dateutil.relativedelta import relativedelta\n",
    "\n",
    "# Importing plotting libraries\n",
    "import matplotlib.pyplot as plt\n",
    "import seaborn as sns\n",
    "\n",
    "# Preventing warning pop ups\n",
    "import warnings\n",
    "warnings.filterwarnings('ignore')\n",
    "\n",
    "# Matplotlib settings\n",
    "%matplotlib inline"
   ]
  },
  {
   "cell_type": "code",
   "execution_count": 3,
   "metadata": {
    "pycharm": {
     "name": "#%%\n"
    }
   },
   "outputs": [],
   "source": [
    "# Specify start date and end date\n",
    "period_year = 1\n",
    "end = date(2022, 5, 1) # if you want to use today's date, end = date.today()\n",
    "start = end - relativedelta(years = period_year)\n",
    "\n",
    "# Specify stocks that you want to get and data source\n",
    "ticker = ['AAPL']\n",
    "data_source = 'yahoo'\n",
    "\n",
    "# Read the data\n",
    "df = DataReader(ticker[0], data_source, start, end)['Close'].to_frame()\n",
    "df.drop_duplicates(keep = 'first', inplace = True)\n",
    "\n",
    "# Saving the dataset\n",
    "df.to_csv('apple_stock.csv')"
   ]
  }
 ],
 "metadata": {
  "kernelspec": {
   "display_name": "Python 3 (ipykernel)",
   "language": "python",
   "name": "python3"
  },
  "language_info": {
   "codemirror_mode": {
    "name": "ipython",
    "version": 3
   },
   "file_extension": ".py",
   "mimetype": "text/x-python",
   "name": "python",
   "nbconvert_exporter": "python",
   "pygments_lexer": "ipython3",
   "version": "3.9.7"
  }
 },
 "nbformat": 4,
 "nbformat_minor": 1
}
